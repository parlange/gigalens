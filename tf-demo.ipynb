{
 "cells": [
  {
   "cell_type": "code",
   "execution_count": 1,
   "id": "885f9088",
   "metadata": {
    "collapsed": false,
    "jupyter": {
     "outputs_hidden": false
    },
    "pycharm": {
     "name": "#%%\n"
    }
   },
   "outputs": [
    {
     "name": "stdout",
     "output_type": "stream",
     "text": [
      "/bin/bash: /home/parlange/anaconda3/envs/tf215/lib/libtinfo.so.6: no version information available (required by /bin/bash)\n",
      "Sat Mar  2 03:03:21 2024       \n",
      "+---------------------------------------------------------------------------------------+\n",
      "| NVIDIA-SMI 535.161.07             Driver Version: 535.161.07   CUDA Version: 12.2     |\n",
      "|-----------------------------------------+----------------------+----------------------+\n",
      "| GPU  Name                 Persistence-M | Bus-Id        Disp.A | Volatile Uncorr. ECC |\n",
      "| Fan  Temp   Perf          Pwr:Usage/Cap |         Memory-Usage | GPU-Util  Compute M. |\n",
      "|                                         |                      |               MIG M. |\n",
      "|=========================================+======================+======================|\n",
      "|   0  NVIDIA GeForce RTX 3090        Off | 00000000:01:00.0 Off |                  N/A |\n",
      "|100%   71C    P3             181W / 390W |     10MiB / 24576MiB |      0%      Default |\n",
      "|                                         |                      |                  N/A |\n",
      "+-----------------------------------------+----------------------+----------------------+\n",
      "|   1  NVIDIA GeForce RTX 3090        Off | 00000000:08:00.0 Off |                  N/A |\n",
      "|  0%   42C    P8              37W / 390W |     10MiB / 24576MiB |      0%      Default |\n",
      "|                                         |                      |                  N/A |\n",
      "+-----------------------------------------+----------------------+----------------------+\n",
      "                                                                                         \n",
      "+---------------------------------------------------------------------------------------+\n",
      "| Processes:                                                                            |\n",
      "|  GPU   GI   CI        PID   Type   Process name                            GPU Memory |\n",
      "|        ID   ID                                                             Usage      |\n",
      "|=======================================================================================|\n",
      "|    0   N/A  N/A      2116      G   /usr/lib/xorg/Xorg                            4MiB |\n",
      "|    1   N/A  N/A      2116      G   /usr/lib/xorg/Xorg                            4MiB |\n",
      "+---------------------------------------------------------------------------------------+\n"
     ]
    }
   ],
   "source": [
    "!nvidia-smi"
   ]
  },
  {
   "cell_type": "code",
   "execution_count": 2,
   "id": "22d7a33e",
   "metadata": {
    "collapsed": false,
    "jupyter": {
     "outputs_hidden": false
    },
    "pycharm": {
     "name": "#%%\n"
    }
   },
   "outputs": [
    {
     "name": "stderr",
     "output_type": "stream",
     "text": [
      "2024-03-02 03:03:22.712482: I tensorflow/core/util/port.cc:113] oneDNN custom operations are on. You may see slightly different numerical results due to floating-point round-off errors from different computation orders. To turn them off, set the environment variable `TF_ENABLE_ONEDNN_OPTS=0`.\n",
      "2024-03-02 03:03:22.732224: E external/local_xla/xla/stream_executor/cuda/cuda_dnn.cc:9261] Unable to register cuDNN factory: Attempting to register factory for plugin cuDNN when one has already been registered\n",
      "2024-03-02 03:03:22.732242: E external/local_xla/xla/stream_executor/cuda/cuda_fft.cc:607] Unable to register cuFFT factory: Attempting to register factory for plugin cuFFT when one has already been registered\n",
      "2024-03-02 03:03:22.732789: E external/local_xla/xla/stream_executor/cuda/cuda_blas.cc:1515] Unable to register cuBLAS factory: Attempting to register factory for plugin cuBLAS when one has already been registered\n",
      "2024-03-02 03:03:22.736161: I tensorflow/core/platform/cpu_feature_guard.cc:182] This TensorFlow binary is optimized to use available CPU instructions in performance-critical operations.\n",
      "To enable the following instructions: AVX2 AVX_VNNI FMA, in other operations, rebuild TensorFlow with the appropriate compiler flags.\n",
      "2024-03-02 03:03:23.110697: W tensorflow/compiler/tf2tensorrt/utils/py_utils.cc:38] TF-TRT Warning: Could not find TensorRT\n"
     ]
    }
   ],
   "source": [
    "import matplotlib as mpl\n",
    "import numpy as np\n",
    "import seaborn as sns\n",
    "import tensorflow as tf\n",
    "import tensorflow_probability as tfp\n",
    "from matplotlib import pyplot as plt\n",
    "from corner import corner\n",
    "\n",
    "from gigalens.tf.inference import ModellingSequence\n",
    "from gigalens.tf.model import ForwardProbModel, BackwardProbModel\n",
    "from gigalens.model import PhysicalModel\n",
    "from gigalens.tf.simulator import LensSimulator\n",
    "from gigalens.simulator import SimulatorConfig\n",
    "from gigalens.tf.profiles.light import sersic\n",
    "from gigalens.tf.profiles.mass import epl, shear\n",
    "\n",
    "sns.set_style(\"whitegrid\")\n",
    "tfd = tfp.distributions"
   ]
  },
  {
   "cell_type": "code",
   "execution_count": 3,
   "id": "Nm5TC4JL8GEb",
   "metadata": {
    "id": "Nm5TC4JL8GEb",
    "pycharm": {
     "name": "#%%\n"
    }
   },
   "outputs": [
    {
     "name": "stderr",
     "output_type": "stream",
     "text": [
      "2024-03-02 03:03:23.540437: I external/local_xla/xla/stream_executor/cuda/cuda_executor.cc:901] successful NUMA node read from SysFS had negative value (-1), but there must be at least one NUMA node, so returning NUMA node zero. See more at https://github.com/torvalds/linux/blob/v6.0/Documentation/ABI/testing/sysfs-bus-pci#L344-L355\n",
      "2024-03-02 03:03:23.540551: I external/local_xla/xla/stream_executor/cuda/cuda_executor.cc:901] successful NUMA node read from SysFS had negative value (-1), but there must be at least one NUMA node, so returning NUMA node zero. See more at https://github.com/torvalds/linux/blob/v6.0/Documentation/ABI/testing/sysfs-bus-pci#L344-L355\n",
      "2024-03-02 03:03:23.559899: I external/local_xla/xla/stream_executor/cuda/cuda_executor.cc:901] successful NUMA node read from SysFS had negative value (-1), but there must be at least one NUMA node, so returning NUMA node zero. See more at https://github.com/torvalds/linux/blob/v6.0/Documentation/ABI/testing/sysfs-bus-pci#L344-L355\n",
      "2024-03-02 03:03:23.560051: I external/local_xla/xla/stream_executor/cuda/cuda_executor.cc:901] successful NUMA node read from SysFS had negative value (-1), but there must be at least one NUMA node, so returning NUMA node zero. See more at https://github.com/torvalds/linux/blob/v6.0/Documentation/ABI/testing/sysfs-bus-pci#L344-L355\n",
      "2024-03-02 03:03:23.560117: I external/local_xla/xla/stream_executor/cuda/cuda_executor.cc:901] successful NUMA node read from SysFS had negative value (-1), but there must be at least one NUMA node, so returning NUMA node zero. See more at https://github.com/torvalds/linux/blob/v6.0/Documentation/ABI/testing/sysfs-bus-pci#L344-L355\n",
      "2024-03-02 03:03:23.560174: I external/local_xla/xla/stream_executor/cuda/cuda_executor.cc:901] successful NUMA node read from SysFS had negative value (-1), but there must be at least one NUMA node, so returning NUMA node zero. See more at https://github.com/torvalds/linux/blob/v6.0/Documentation/ABI/testing/sysfs-bus-pci#L344-L355\n",
      "2024-03-02 03:03:23.656032: I external/local_xla/xla/stream_executor/cuda/cuda_executor.cc:901] successful NUMA node read from SysFS had negative value (-1), but there must be at least one NUMA node, so returning NUMA node zero. See more at https://github.com/torvalds/linux/blob/v6.0/Documentation/ABI/testing/sysfs-bus-pci#L344-L355\n",
      "2024-03-02 03:03:23.656148: I external/local_xla/xla/stream_executor/cuda/cuda_executor.cc:901] successful NUMA node read from SysFS had negative value (-1), but there must be at least one NUMA node, so returning NUMA node zero. See more at https://github.com/torvalds/linux/blob/v6.0/Documentation/ABI/testing/sysfs-bus-pci#L344-L355\n",
      "2024-03-02 03:03:23.656212: I external/local_xla/xla/stream_executor/cuda/cuda_executor.cc:901] successful NUMA node read from SysFS had negative value (-1), but there must be at least one NUMA node, so returning NUMA node zero. See more at https://github.com/torvalds/linux/blob/v6.0/Documentation/ABI/testing/sysfs-bus-pci#L344-L355\n",
      "2024-03-02 03:03:23.656267: I external/local_xla/xla/stream_executor/cuda/cuda_executor.cc:901] successful NUMA node read from SysFS had negative value (-1), but there must be at least one NUMA node, so returning NUMA node zero. See more at https://github.com/torvalds/linux/blob/v6.0/Documentation/ABI/testing/sysfs-bus-pci#L344-L355\n",
      "2024-03-02 03:03:23.656321: I external/local_xla/xla/stream_executor/cuda/cuda_executor.cc:901] successful NUMA node read from SysFS had negative value (-1), but there must be at least one NUMA node, so returning NUMA node zero. See more at https://github.com/torvalds/linux/blob/v6.0/Documentation/ABI/testing/sysfs-bus-pci#L344-L355\n",
      "2024-03-02 03:03:23.656375: I external/local_xla/xla/stream_executor/cuda/cuda_executor.cc:901] successful NUMA node read from SysFS had negative value (-1), but there must be at least one NUMA node, so returning NUMA node zero. See more at https://github.com/torvalds/linux/blob/v6.0/Documentation/ABI/testing/sysfs-bus-pci#L344-L355\n",
      "2024-03-02 03:03:23.662514: I external/local_xla/xla/stream_executor/cuda/cuda_executor.cc:901] successful NUMA node read from SysFS had negative value (-1), but there must be at least one NUMA node, so returning NUMA node zero. See more at https://github.com/torvalds/linux/blob/v6.0/Documentation/ABI/testing/sysfs-bus-pci#L344-L355\n",
      "2024-03-02 03:03:23.662646: I external/local_xla/xla/stream_executor/cuda/cuda_executor.cc:901] successful NUMA node read from SysFS had negative value (-1), but there must be at least one NUMA node, so returning NUMA node zero. See more at https://github.com/torvalds/linux/blob/v6.0/Documentation/ABI/testing/sysfs-bus-pci#L344-L355\n",
      "2024-03-02 03:03:23.662719: I external/local_xla/xla/stream_executor/cuda/cuda_executor.cc:901] successful NUMA node read from SysFS had negative value (-1), but there must be at least one NUMA node, so returning NUMA node zero. See more at https://github.com/torvalds/linux/blob/v6.0/Documentation/ABI/testing/sysfs-bus-pci#L344-L355\n",
      "2024-03-02 03:03:23.662778: I external/local_xla/xla/stream_executor/cuda/cuda_executor.cc:901] successful NUMA node read from SysFS had negative value (-1), but there must be at least one NUMA node, so returning NUMA node zero. See more at https://github.com/torvalds/linux/blob/v6.0/Documentation/ABI/testing/sysfs-bus-pci#L344-L355\n",
      "2024-03-02 03:03:23.662839: I external/local_xla/xla/stream_executor/cuda/cuda_executor.cc:901] successful NUMA node read from SysFS had negative value (-1), but there must be at least one NUMA node, so returning NUMA node zero. See more at https://github.com/torvalds/linux/blob/v6.0/Documentation/ABI/testing/sysfs-bus-pci#L344-L355\n",
      "2024-03-02 03:03:23.662896: I tensorflow/core/common_runtime/gpu/gpu_device.cc:1929] Created device /job:localhost/replica:0/task:0/device:GPU:0 with 22453 MB memory:  -> device: 0, name: NVIDIA GeForce RTX 3090, pci bus id: 0000:01:00.0, compute capability: 8.6\n",
      "2024-03-02 03:03:23.663167: I external/local_xla/xla/stream_executor/cuda/cuda_executor.cc:901] successful NUMA node read from SysFS had negative value (-1), but there must be at least one NUMA node, so returning NUMA node zero. See more at https://github.com/torvalds/linux/blob/v6.0/Documentation/ABI/testing/sysfs-bus-pci#L344-L355\n",
      "2024-03-02 03:03:23.663224: I tensorflow/core/common_runtime/gpu/gpu_device.cc:1929] Created device /job:localhost/replica:0/task:0/device:GPU:1 with 22453 MB memory:  -> device: 1, name: NVIDIA GeForce RTX 3090, pci bus id: 0000:08:00.0, compute capability: 8.6\n",
      "2024-03-02 03:03:23.842181: I external/local_tsl/tsl/platform/default/subprocess.cc:304] Start cannot spawn child process: No such file or directory\n"
     ]
    }
   ],
   "source": [
    "lens_prior = tfd.JointDistributionSequential(\n",
    "    [\n",
    "        tfd.JointDistributionNamed(\n",
    "            dict(\n",
    "                theta_E=tfd.LogNormal(tf.math.log(1.25), 0.25),\n",
    "                gamma=tfd.TruncatedNormal(2, 0.25, 1, 3),\n",
    "                e1=tfd.Normal(0, 0.1),\n",
    "                e2=tfd.Normal(0, 0.1),\n",
    "                center_x=tfd.Normal(0, 0.05),\n",
    "                center_y=tfd.Normal(0, 0.05),\n",
    "            )\n",
    "        ),\n",
    "        tfd.JointDistributionNamed(\n",
    "            dict(gamma1=tfd.Normal(0, 0.05), gamma2=tfd.Normal(0, 0.05))\n",
    "        ),\n",
    "    ]\n",
    ")\n",
    "lens_light_prior = tfd.JointDistributionSequential(\n",
    "    [\n",
    "        tfd.JointDistributionNamed(\n",
    "            dict(\n",
    "                R_sersic=tfd.LogNormal(tf.math.log(1.0), 0.15),\n",
    "                n_sersic=tfd.Uniform(2, 6),\n",
    "                e1=tfd.TruncatedNormal(0, 0.1, -0.3, 0.3),\n",
    "                e2=tfd.TruncatedNormal(0, 0.1, -0.3, 0.3),\n",
    "                center_x=tfd.Normal(0, 0.05),\n",
    "                center_y=tfd.Normal(0, 0.05),\n",
    "                Ie=tfd.LogNormal(tf.math.log(500.0), 0.3),\n",
    "            )\n",
    "        )\n",
    "    ]\n",
    ")\n",
    "\n",
    "source_light_prior = tfd.JointDistributionSequential(\n",
    "    [\n",
    "        tfd.JointDistributionNamed(\n",
    "            dict(\n",
    "                R_sersic=tfd.LogNormal(tf.math.log(0.25), 0.15),\n",
    "                n_sersic=tfd.Uniform(0.5, 4),\n",
    "                e1=tfd.TruncatedNormal(0, 0.15, -0.5, 0.5),\n",
    "                e2=tfd.TruncatedNormal(0, 0.15, -0.5, 0.5),\n",
    "                center_x=tfd.Normal(0, 0.25),\n",
    "                center_y=tfd.Normal(0, 0.25),\n",
    "                Ie=tfd.LogNormal(tf.math.log(150.0), 0.5),\n",
    "            )\n",
    "        )\n",
    "    ]\n",
    ")\n",
    "\n",
    "prior = tfd.JointDistributionSequential(\n",
    "    [lens_prior, lens_light_prior, source_light_prior]\n",
    ")"
   ]
  },
  {
   "cell_type": "code",
   "execution_count": 4,
   "id": "b0m6Mod3Doq1",
   "metadata": {
    "colab": {
     "base_uri": "https://localhost:8080/"
    },
    "id": "b0m6Mod3Doq1",
    "outputId": "a6c7630b-6db1-4fcb-b962-1e0defa5dff6",
    "pycharm": {
     "name": "#%%\n"
    }
   },
   "outputs": [
    {
     "data": {
      "text/plain": [
       "[[{'theta_E': <tf.Tensor: shape=(2,), dtype=float32, numpy=array([1.8636669, 1.9072014], dtype=float32)>,\n",
       "   'gamma': <tf.Tensor: shape=(2,), dtype=float32, numpy=array([2.0507123, 1.9443657], dtype=float32)>,\n",
       "   'e2': <tf.Tensor: shape=(2,), dtype=float32, numpy=array([0.06357323, 0.00329821], dtype=float32)>,\n",
       "   'e1': <tf.Tensor: shape=(2,), dtype=float32, numpy=array([0.02462221, 0.00809558], dtype=float32)>,\n",
       "   'center_y': <tf.Tensor: shape=(2,), dtype=float32, numpy=array([0.00206498, 0.04863852], dtype=float32)>,\n",
       "   'center_x': <tf.Tensor: shape=(2,), dtype=float32, numpy=array([-0.04014589, -0.03001576], dtype=float32)>},\n",
       "  {'gamma2': <tf.Tensor: shape=(2,), dtype=float32, numpy=array([-0.01852233,  0.05087652], dtype=float32)>,\n",
       "   'gamma1': <tf.Tensor: shape=(2,), dtype=float32, numpy=array([-0.04794445,  0.03299002], dtype=float32)>}],\n",
       " [{'n_sersic': <tf.Tensor: shape=(2,), dtype=float32, numpy=array([2.4121256, 2.1630397], dtype=float32)>,\n",
       "   'e2': <tf.Tensor: shape=(2,), dtype=float32, numpy=array([0.03343231, 0.02275618], dtype=float32)>,\n",
       "   'e1': <tf.Tensor: shape=(2,), dtype=float32, numpy=array([-0.00708261, -0.0947904 ], dtype=float32)>,\n",
       "   'center_y': <tf.Tensor: shape=(2,), dtype=float32, numpy=array([-0.03134413, -0.05276656], dtype=float32)>,\n",
       "   'center_x': <tf.Tensor: shape=(2,), dtype=float32, numpy=array([0.00054611, 0.00239404], dtype=float32)>,\n",
       "   'R_sersic': <tf.Tensor: shape=(2,), dtype=float32, numpy=array([0.81120336, 0.9744603 ], dtype=float32)>,\n",
       "   'Ie': <tf.Tensor: shape=(2,), dtype=float32, numpy=array([562.0507, 796.6942], dtype=float32)>}],\n",
       " [{'n_sersic': <tf.Tensor: shape=(2,), dtype=float32, numpy=array([0.5452155, 3.2926657], dtype=float32)>,\n",
       "   'e2': <tf.Tensor: shape=(2,), dtype=float32, numpy=array([-0.1124106 ,  0.03969849], dtype=float32)>,\n",
       "   'e1': <tf.Tensor: shape=(2,), dtype=float32, numpy=array([0.04977178, 0.08246356], dtype=float32)>,\n",
       "   'center_y': <tf.Tensor: shape=(2,), dtype=float32, numpy=array([0.04757271, 0.06620593], dtype=float32)>,\n",
       "   'center_x': <tf.Tensor: shape=(2,), dtype=float32, numpy=array([0.34411272, 0.285556  ], dtype=float32)>,\n",
       "   'R_sersic': <tf.Tensor: shape=(2,), dtype=float32, numpy=array([0.2695944, 0.2542829], dtype=float32)>,\n",
       "   'Ie': <tf.Tensor: shape=(2,), dtype=float32, numpy=array([131.71198, 140.17833], dtype=float32)>}]]"
      ]
     },
     "execution_count": 4,
     "metadata": {},
     "output_type": "execute_result"
    }
   ],
   "source": [
    "prior.sample(2)"
   ]
  },
  {
   "cell_type": "markdown",
   "id": "09c630b2-4aeb-4103-9d88-3de6f4cb726e",
   "metadata": {
    "id": "09c630b2-4aeb-4103-9d88-3de6f4cb726e",
    "pycharm": {
     "name": "#%% md\n"
    }
   },
   "source": [
    "Load the data. The ground truth parameters are in `truth`. Various hyperparameters, including the noise scale and exposure time are fixed.\n",
    "\n",
    "The PSF is generated from `TinyTim` for HST F140W band, and has been supersampled to the pixel scale of 0.065."
   ]
  },
  {
   "cell_type": "code",
   "execution_count": 5,
   "id": "kwtSVbWS8r2F",
   "metadata": {
    "id": "kwtSVbWS8r2F",
    "pycharm": {
     "name": "#%%\n"
    }
   },
   "outputs": [],
   "source": [
    "truth = [[\n",
    "    {'theta_E': 1.1, 'gamma': 2.0, 'e1': 0.1, 'e2': 0.1, 'center_x': 0.1, 'center_y': 0.0},\n",
    "    {'gamma1': -0.01, 'gamma2': 0.03}\n",
    "], [\n",
    "    {'R_sersic': 0.8, 'n_sersic': 2.5, 'e1': 0.09534746574143645, 'e2': 0.14849487967198177, 'center_x': 0.1, 'center_y': 0.0, 'Ie': 499.3695906504067}\n",
    "], [\n",
    "    {'R_sersic': 0.25, 'n_sersic': 1.5, 'e1': 0., 'e2': 0., 'center_x': 0.09566681002252231, 'center_y': -0.0639623054267272, 'Ie': 149.58828877085668}\n",
    "]]"
   ]
  },
  {
   "cell_type": "code",
   "execution_count": 6,
   "id": "f71f119e-6b22-40c4-9aad-766bd3902297",
   "metadata": {
    "id": "f71f119e-6b22-40c4-9aad-766bd3902297",
    "pycharm": {
     "name": "#%%\n"
    }
   },
   "outputs": [
    {
     "name": "stderr",
     "output_type": "stream",
     "text": [
      "2024-03-02 03:03:24.818081: I tensorflow/core/util/cuda_solvers.cc:179] Creating GpuSolver handles for stream 0x36f5810\n"
     ]
    }
   ],
   "source": [
    "import gigalens\n",
    "root = gigalens.__path__[0]\n",
    "kernel = np.load(f'{root}/assets/psf.npy').astype(np.float32)\n",
    "sim_config = SimulatorConfig(delta_pix=0.065, num_pix=60, supersample=2, kernel=kernel)\n",
    "phys_model = PhysicalModel([epl.EPL(50), shear.Shear()], [sersic.SersicEllipse(use_lstsq=False)], [sersic.SersicEllipse(use_lstsq=False)])\n",
    "lens_sim = LensSimulator(phys_model, sim_config, bs=1)\n",
    "observed_img = np.load(f'{root}/assets/demo.npy')\n",
    "prob_model = ForwardProbModel(prior, observed_img, background_rms=0.2, exp_time=100)\n",
    "model_seq = ModellingSequence(phys_model, prob_model, sim_config)"
   ]
  },
  {
   "cell_type": "code",
   "execution_count": 7,
   "id": "8e5b6d54-30e1-4c2a-9d9f-3ca39b5170ce",
   "metadata": {
    "colab": {
     "base_uri": "https://localhost:8080/",
     "height": 286
    },
    "id": "8e5b6d54-30e1-4c2a-9d9f-3ca39b5170ce",
    "outputId": "9cabad58-e117-4cb6-df06-e70312240e64",
    "pycharm": {
     "name": "#%%\n"
    }
   },
   "outputs": [
    {
     "data": {
      "text/plain": [
       "<matplotlib.colorbar.Colorbar at 0x7f53844524a0>"
      ]
     },
     "execution_count": 7,
     "metadata": {},
     "output_type": "execute_result"
    },
    {
     "data": {
      "image/png": "[encoded data removed]",
      "text/plain": [
       "<Figure size 640x480 with 2 Axes>"
      ]
     },
     "metadata": {},
     "output_type": "display_data"
    }
   ],
   "source": [
    "plt.imshow(observed_img, vmin=0, vmax=10)\n",
    "plt.colorbar()"
   ]
  },
  {
   "cell_type": "markdown",
   "id": "3c727058-f3e0-4ae6-af55-de40df0d1098",
   "metadata": {
    "id": "3c727058-f3e0-4ae6-af55-de40df0d1098",
    "pycharm": {
     "name": "#%% md\n"
    }
   },
   "source": [
    "Sanity check: calculate residuals using ground truth."
   ]
  },
  {
   "cell_type": "code",
   "execution_count": 8,
   "id": "693c9972-f5ce-4631-9169-f21229648220",
   "metadata": {
    "colab": {
     "base_uri": "https://localhost:8080/",
     "height": 221
    },
    "id": "693c9972-f5ce-4631-9169-f21229648220",
    "outputId": "3078dd8f-024c-4034-8ba2-efad1f3eb1a9",
    "pycharm": {
     "name": "#%%\n"
    }
   },
   "outputs": [
    {
     "name": "stdout",
     "output_type": "stream",
     "text": [
      "Chi-square: 0.98125166\n"
     ]
    },
    {
     "name": "stderr",
     "output_type": "stream",
     "text": [
      "2024-03-02 03:03:26.242197: I external/local_xla/xla/stream_executor/cuda/cuda_dnn.cc:454] Loaded cuDNN version 8902\n",
      "2024-03-02 03:03:26.287526: I external/local_tsl/tsl/platform/default/subprocess.cc:304] Start cannot spawn child process: No such file or directory\n"
     ]
    },
    {
     "data": {
      "text/plain": [
       "<matplotlib.colorbar.Colorbar at 0x7f53707206d0>"
      ]
     },
     "execution_count": 8,
     "metadata": {},
     "output_type": "execute_result"
    },
    {
     "data": {
      "image/png": "[encoded data removed]",
      "text/plain": [
       "<Figure size 800x300 with 4 Axes>"
      ]
     },
     "metadata": {},
     "output_type": "display_data"
    }
   ],
   "source": [
    "plt.figure(figsize=(8, 3))\n",
    "plt.subplot(121)\n",
    "plt.imshow(lens_sim.simulate(truth), norm=mpl.colors.PowerNorm(0.5, vmin=0, vmax=20),)\n",
    "plt.colorbar()\n",
    "plt.axis('off')\n",
    "plt.subplot(122)\n",
    "simulated = lens_sim.simulate(truth)\n",
    "resid = simulated - observed_img\n",
    "background_rms, exp_time = 0.2, 100\n",
    "err_map = np.sqrt(background_rms**2 + simulated/exp_time)\n",
    "plt.imshow(resid/err_map, cmap='coolwarm', interpolation='none', vmin=-5, vmax=5)\n",
    "print('Chi-square:', np.mean((resid/err_map)**2))\n",
    "plt.axis('off')\n",
    "plt.colorbar()"
   ]
  },
  {
   "cell_type": "markdown",
   "id": "5b639ec8-8a08-4a06-8c85-1ff223a7176a",
   "metadata": {
    "id": "5b639ec8-8a08-4a06-8c85-1ff223a7176a",
    "pycharm": {
     "name": "#%% md\n"
    }
   },
   "source": [
    "Begin fitting. We use `supersample=1` for this demonstration to speed things up, but setting `supersample=2` is recommended in practice. This will not significantly slow down the fitting."
   ]
  },
  {
   "cell_type": "code",
   "execution_count": 9,
   "id": "99e3e6fa-2923-4bab-8c87-53b37ae92939",
   "metadata": {
    "id": "99e3e6fa-2923-4bab-8c87-53b37ae92939",
    "pycharm": {
     "name": "#%%\n"
    }
   },
   "outputs": [],
   "source": [
    "fitter = ModellingSequence(phys_model, prob_model, sim_config)"
   ]
  },
  {
   "cell_type": "code",
   "execution_count": 10,
   "id": "601ffc7e-8286-4856-b913-297ad7ceb8eb",
   "metadata": {
    "colab": {
     "base_uri": "https://localhost:8080/",
     "height": 49,
     "referenced_widgets": [
      "3f37b8b8af304b6db0c04db41ac760f1",
      "f1a771ddc6d14a9eb567748dd9bf9f7b",
      "003e9932e16e495292fe367b54f057f8",
      "db24e488683f490dbf1d3dc427f23fc8",
      "119edc8b66454af8b423acd9daf2a6ff",
      "23e1084e264b4d2090cef6fd2980e002",
      "c83ede92afa64a4da9dfd3233c6acc32",
      "0e8dcbd1cc9c49ff8b97bf68bfc2d2e5",
      "731ca8a0eada4ea9b72f0a54b5777b0b",
      "bcab2f79b6b14f45996c68f9ad5ed753",
      "4af37c76999c4861b736387b1df7256e"
     ]
    },
    "id": "601ffc7e-8286-4856-b913-297ad7ceb8eb",
    "outputId": "c44cdfd1-93f0-423d-dd08-d642c60d1492",
    "pycharm": {
     "name": "#%%\n"
    }
   },
   "outputs": [
    {
     "data": {
      "application/json": {
       "ascii": false,
       "bar_format": null,
       "colour": null,
       "elapsed": 0.0017635822296142578,
       "initial": 0,
       "n": 0,
       "ncols": null,
       "nrows": 53,
       "postfix": null,
       "prefix": "",
       "rate": null,
       "total": 300,
       "unit": "it",
       "unit_divisor": 1000,
       "unit_scale": false
      },
      "application/vnd.jupyter.widget-view+json": {
       "model_id": "546e6988782e4abfbd8ddbd118718171",
       "version_major": 2,
       "version_minor": 0
      },
      "text/plain": [
       "  0%|          | 0/300 [00:00<?, ?it/s]"
      ]
     },
     "metadata": {},
     "output_type": "display_data"
    },
    {
     "name": "stderr",
     "output_type": "stream",
     "text": [
      "2024-03-02 03:03:49.525744: I external/local_xla/xla/service/service.cc:168] XLA service 0x7f527c003990 initialized for platform CUDA (this does not guarantee that XLA will be used). Devices:\n",
      "2024-03-02 03:03:49.525764: I external/local_xla/xla/service/service.cc:176]   StreamExecutor device (0): NVIDIA GeForce RTX 3090, Compute Capability 8.6\n",
      "2024-03-02 03:03:49.525766: I external/local_xla/xla/service/service.cc:176]   StreamExecutor device (1): NVIDIA GeForce RTX 3090, Compute Capability 8.6\n",
      "2024-03-02 03:03:49.528782: I tensorflow/compiler/mlir/tensorflow/utils/dump_mlir_util.cc:269] disabling MLIR crash reproducer, set env var `MLIR_CRASH_REPRODUCER_DIRECTORY` to enable.\n",
      "WARNING: All log messages before absl::InitializeLog() is called are written to STDERR\n",
      "I0000 00:00:1709370229.583343   92241 device_compiler.h:186] Compiled cluster using XLA!  This line is logged at most once for the lifetime of the process.\n"
     ]
    }
   ],
   "source": [
    "n_map = 500\n",
    "schedule_fn = tf.keras.optimizers.schedules.PolynomialDecay(1e-2, 300, 1e-2/5)\n",
    "optimizer = tf.keras.optimizers.Adam(schedule_fn)\n",
    "MAP = fitter.MAP(optimizer=optimizer, n_samples=n_map, num_steps=300, seed=0)"
   ]
  },
  {
   "cell_type": "code",
   "execution_count": 11,
   "id": "xD2AmRXP-vd3",
   "metadata": {
    "id": "xD2AmRXP-vd3",
    "pycharm": {
     "name": "#%%\n"
    }
   },
   "outputs": [],
   "source": [
    "lens_sim_n_MAP = LensSimulator(phys_model, sim_config, bs=n_map)\n",
    "lps = prob_model.log_prob(lens_sim_n_MAP, MAP)[0]\n",
    "best = MAP[tf.argmax(lps).numpy()]"
   ]
  },
  {
   "cell_type": "code",
   "execution_count": 12,
   "id": "7ca8bd60-386c-409a-a6fd-eefce4f2f650",
   "metadata": {
    "id": "7ca8bd60-386c-409a-a6fd-eefce4f2f650",
    "pycharm": {
     "name": "#%%\n"
    }
   },
   "outputs": [],
   "source": [
    "schedule_fn = tf.keras.optimizers.schedules.PolynomialDecay(0.0, 500, 4e-3, 2)\n",
    "optimizer = tf.keras.optimizers.Adam(schedule_fn)\n",
    "q_z, losses = fitter.SVI(optimizer=optimizer, start=best, n_vi=500, num_steps=1000)"
   ]
  },
  {
   "cell_type": "code",
   "execution_count": 13,
   "id": "644f9722-34e2-4c29-8c06-b3987dcb91c4",
   "metadata": {
    "colab": {
     "base_uri": "https://localhost:8080/",
     "height": 282
    },
    "id": "644f9722-34e2-4c29-8c06-b3987dcb91c4",
    "outputId": "3c6987b7-fc6c-427f-9c5e-bb078c156ef5",
    "pycharm": {
     "name": "#%%\n"
    }
   },
   "outputs": [
    {
     "data": {
      "text/plain": [
       "[<matplotlib.lines.Line2D at 0x7f5370198d00>]"
      ]
     },
     "execution_count": 13,
     "metadata": {},
     "output_type": "execute_result"
    },
    {
     "data": {
      "image/png": "[encoded data removed]",
      "text/plain": [
       "<Figure size 640x480 with 1 Axes>"
      ]
     },
     "metadata": {},
     "output_type": "display_data"
    }
   ],
   "source": [
    "plt.plot(losses)"
   ]
  },
  {
   "cell_type": "markdown",
   "id": "dbe31cf5",
   "metadata": {
    "collapsed": false,
    "jupyter": {
     "outputs_hidden": false
    },
    "pycharm": {
     "name": "#%% md\n"
    }
   },
   "source": [
    "Although the loss is still declining, the VI results are sufficient for our sampling."
   ]
  },
  {
   "cell_type": "code",
   "execution_count": null,
   "id": "7d30f663-1520-425c-8c50-7ce9097eaf25",
   "metadata": {
    "colab": {
     "base_uri": "https://localhost:8080/",
     "height": 103,
     "referenced_widgets": [
      "0efeb619a1114261984d6ee5564995e3",
      "d88085c53a0a4aa78dd5c5d64105ebdc",
      "a56fca1269a6482c956dd99170236a30",
      "0e6a5cac7909443e91831d16eef7cd32",
      "9e80e99d5d1141f2803c1d3b19c0f7c9",
      "68092439ce304c20b72e0343c103a20a",
      "a45d3ac3ca3d41fa8fd0608728b099b4",
      "cb9d1863cc5444c7a2aeaf88fe4a6605",
      "213b75e11a604dd09a2d569b1094fda5",
      "cf70906aaef342b384b339c908c9c8eb",
      "84d3ccd79912443b9bb329fc290a79d7"
     ]
    },
    "id": "7d30f663-1520-425c-8c50-7ce9097eaf25",
    "outputId": "bdcd795a-61a0-467a-a22a-d1861ae0b587",
    "pycharm": {
     "name": "#%%\n"
    }
   },
   "outputs": [
    {
     "name": "stderr",
     "output_type": "stream",
     "text": [
      "/home/parlange/anaconda3/envs/tf215/lib/python3.10/site-packages/tensorflow_probability/python/mcmc/sample.py:339: UserWarning: Tracing all kernel results by default is deprecated. Set the `trace_fn` argument to None (the future default value) or an explicit callback that traces the values you are interested in.\n",
      "  warnings.warn('Tracing all kernel results by default is deprecated. Set '\n"
     ]
    },
    {
     "data": {
      "application/json": {
       "ascii": false,
       "bar_format": null,
       "colour": null,
       "elapsed": 0.003421306610107422,
       "initial": 0,
       "n": 0,
       "ncols": null,
       "nrows": 53,
       "postfix": null,
       "prefix": "",
       "rate": null,
       "total": 999,
       "unit": "it",
       "unit_divisor": 1000,
       "unit_scale": false
      },
      "application/vnd.jupyter.widget-view+json": {
       "model_id": "3fff54f88cd94369bf1b54a100893878",
       "version_major": 2,
       "version_minor": 0
      },
      "text/plain": [
       "  0%|          | 0/999 [00:00<?, ?it/s]"
      ]
     },
     "metadata": {},
     "output_type": "display_data"
    }
   ],
   "source": [
    "samples, sample_stats = fitter.HMC(q_z, n_hmc=50, init_eps=0.3, init_l=3, max_leapfrog_steps=300,\n",
    "                                   num_burnin_steps=250, num_results=750)"
   ]
  },
  {
   "cell_type": "code",
   "execution_count": null,
   "id": "7ec23d9d-079f-4161-971d-d1b6fc591d30",
   "metadata": {
    "colab": {
     "base_uri": "https://localhost:8080/"
    },
    "id": "7ec23d9d-079f-4161-971d-d1b6fc591d30",
    "outputId": "4ea30ca3-5636-4653-aa1f-b3e9f7e181f2",
    "pycharm": {
     "name": "#%%\n"
    }
   },
   "outputs": [],
   "source": [
    "Rhat = tfp.mcmc.potential_scale_reduction(samples).numpy()\n",
    "ESS = tfp.mcmc.effective_sample_size(samples, cross_chain_dims=1).numpy()\n",
    "print(Rhat, ESS)"
   ]
  },
  {
   "cell_type": "code",
   "execution_count": null,
   "id": "f1680599-9b69-4f2f-9566-6c9a04565031",
   "metadata": {
    "colab": {
     "base_uri": "https://localhost:8080/",
     "height": 1000
    },
    "id": "f1680599-9b69-4f2f-9566-6c9a04565031",
    "outputId": "50dd946a-500f-4793-fdff-2070af76c7e9",
    "pycharm": {
     "name": "#%%\n"
    }
   },
   "outputs": [],
   "source": [
    "get_samples = lambda x: tf.convert_to_tensor([\n",
    "    x[0][0]['theta_E'],\n",
    "    x[0][0]['gamma'],\n",
    "    x[0][0]['e1'],\n",
    "    x[0][0]['e2'],\n",
    "    x[0][0]['center_x'],\n",
    "    x[0][0]['center_y'],\n",
    "    x[0][1]['gamma1'],\n",
    "    x[0][1]['gamma2'],\n",
    "])\n",
    "physical_samples = get_samples(prob_model.bij.forward(samples)).numpy()\n",
    "markers = get_samples(truth)\n",
    "corner(physical_samples.reshape((8,-1)).T, truths=markers, \n",
    "       show_titles=True, title_fmt='.3f',\n",
    "       labels=[r'$\\theta_E$', r'$\\gamma$', r'$\\epsilon_1$', r'$\\epsilon_2$', r'$x$', r'$y$', r'$\\gamma_{1,ext}$', r'$\\gamma_{2,ext}$']);"
   ]
  }
 ],
 "metadata": {
  "accelerator": "GPU",
  "colab": {
   "collapsed_sections": [],
   "name": "tf-demo.ipynb",
   "provenance": []
  },
  "kernelspec": {
   "display_name": "tf215",
   "language": "python",
   "name": "tf215"
  },
  "language_info": {
   "codemirror_mode": {
    "name": "ipython",
    "version": 3
   },
   "file_extension": ".py",
   "mimetype": "text/x-python",
   "name": "python",
   "nbconvert_exporter": "python",
   "pygments_lexer": "ipython3",
   "version": "3.10.13"
  },
  "widgets": {
   "application/vnd.jupyter.widget-state+json": {
    "003e9932e16e495292fe367b54f057f8": {
     "model_module": "@jupyter-widgets/controls",
     "model_module_version": "1.5.0",
     "model_name": "HTMLModel",
     "state": {
      "_dom_classes": [],
      "_model_module": "@jupyter-widgets/controls",
      "_model_module_version": "1.5.0",
      "_model_name": "HTMLModel",
      "_view_count": null,
      "_view_module": "@jupyter-widgets/controls",
      "_view_module_version": "1.5.0",
      "_view_name": "HTMLView",
      "description": "",
      "description_tooltip": null,
      "layout": "IPY_MODEL_c83ede92afa64a4da9dfd3233c6acc32",
      "placeholder": "​",
      "style": "IPY_MODEL_23e1084e264b4d2090cef6fd2980e002",
      "value": "Chi Squared: 0.9794: 100%"
     }
    },
    "0e6a5cac7909443e91831d16eef7cd32": {
     "model_module": "@jupyter-widgets/controls",
     "model_module_version": "1.5.0",
     "model_name": "FloatProgressModel",
     "state": {
      "_dom_classes": [],
      "_model_module": "@jupyter-widgets/controls",
      "_model_module_version": "1.5.0",
      "_model_name": "FloatProgressModel",
      "_view_count": null,
      "_view_module": "@jupyter-widgets/controls",
      "_view_module_version": "1.5.0",
      "_view_name": "ProgressView",
      "bar_style": "success",
      "description": "",
      "description_tooltip": null,
      "layout": "IPY_MODEL_213b75e11a604dd09a2d569b1094fda5",
      "max": 999,
      "min": 0,
      "orientation": "horizontal",
      "style": "IPY_MODEL_cb9d1863cc5444c7a2aeaf88fe4a6605",
      "value": 999
     }
    },
    "0e8dcbd1cc9c49ff8b97bf68bfc2d2e5": {
     "model_module": "@jupyter-widgets/controls",
     "model_module_version": "1.5.0",
     "model_name": "ProgressStyleModel",
     "state": {
      "_model_module": "@jupyter-widgets/controls",
      "_model_module_version": "1.5.0",
      "_model_name": "ProgressStyleModel",
      "_view_count": null,
      "_view_module": "@jupyter-widgets/base",
      "_view_module_version": "1.2.0",
      "_view_name": "StyleView",
      "bar_color": null,
      "description_width": ""
     }
    },
    "0efeb619a1114261984d6ee5564995e3": {
     "model_module": "@jupyter-widgets/controls",
     "model_module_version": "1.5.0",
     "model_name": "HBoxModel",
     "state": {
      "_dom_classes": [],
      "_model_module": "@jupyter-widgets/controls",
      "_model_module_version": "1.5.0",
      "_model_name": "HBoxModel",
      "_view_count": null,
      "_view_module": "@jupyter-widgets/controls",
      "_view_module_version": "1.5.0",
      "_view_name": "HBoxView",
      "box_style": "",
      "children": [
       "IPY_MODEL_a56fca1269a6482c956dd99170236a30",
       "IPY_MODEL_0e6a5cac7909443e91831d16eef7cd32",
       "IPY_MODEL_9e80e99d5d1141f2803c1d3b19c0f7c9"
      ],
      "layout": "IPY_MODEL_d88085c53a0a4aa78dd5c5d64105ebdc"
     }
    },
    "119edc8b66454af8b423acd9daf2a6ff": {
     "model_module": "@jupyter-widgets/controls",
     "model_module_version": "1.5.0",
     "model_name": "HTMLModel",
     "state": {
      "_dom_classes": [],
      "_model_module": "@jupyter-widgets/controls",
      "_model_module_version": "1.5.0",
      "_model_name": "HTMLModel",
      "_view_count": null,
      "_view_module": "@jupyter-widgets/controls",
      "_view_module_version": "1.5.0",
      "_view_name": "HTMLView",
      "description": "",
      "description_tooltip": null,
      "layout": "IPY_MODEL_4af37c76999c4861b736387b1df7256e",
      "placeholder": "​",
      "style": "IPY_MODEL_bcab2f79b6b14f45996c68f9ad5ed753",
      "value": " 300/300 [01:17&lt;00:00,  4.40it/s]"
     }
    },
    "213b75e11a604dd09a2d569b1094fda5": {
     "model_module": "@jupyter-widgets/base",
     "model_module_version": "1.2.0",
     "model_name": "LayoutModel",
     "state": {
      "_model_module": "@jupyter-widgets/base",
      "_model_module_version": "1.2.0",
      "_model_name": "LayoutModel",
      "_view_count": null,
      "_view_module": "@jupyter-widgets/base",
      "_view_module_version": "1.2.0",
      "_view_name": "LayoutView",
      "align_content": null,
      "align_items": null,
      "align_self": null,
      "border": null,
      "bottom": null,
      "display": null,
      "flex": null,
      "flex_flow": null,
      "grid_area": null,
      "grid_auto_columns": null,
      "grid_auto_flow": null,
      "grid_auto_rows": null,
      "grid_column": null,
      "grid_gap": null,
      "grid_row": null,
      "grid_template_areas": null,
      "grid_template_columns": null,
      "grid_template_rows": null,
      "height": null,
      "justify_content": null,
      "justify_items": null,
      "left": null,
      "margin": null,
      "max_height": null,
      "max_width": null,
      "min_height": null,
      "min_width": null,
      "object_fit": null,
      "object_position": null,
      "order": null,
      "overflow": null,
      "overflow_x": null,
      "overflow_y": null,
      "padding": null,
      "right": null,
      "top": null,
      "visibility": null,
      "width": null
     }
    },
    "23e1084e264b4d2090cef6fd2980e002": {
     "model_module": "@jupyter-widgets/controls",
     "model_module_version": "1.5.0",
     "model_name": "DescriptionStyleModel",
     "state": {
      "_model_module": "@jupyter-widgets/controls",
      "_model_module_version": "1.5.0",
      "_model_name": "DescriptionStyleModel",
      "_view_count": null,
      "_view_module": "@jupyter-widgets/base",
      "_view_module_version": "1.2.0",
      "_view_name": "StyleView",
      "description_width": ""
     }
    },
    "3f37b8b8af304b6db0c04db41ac760f1": {
     "model_module": "@jupyter-widgets/controls",
     "model_module_version": "1.5.0",
     "model_name": "HBoxModel",
     "state": {
      "_dom_classes": [],
      "_model_module": "@jupyter-widgets/controls",
      "_model_module_version": "1.5.0",
      "_model_name": "HBoxModel",
      "_view_count": null,
      "_view_module": "@jupyter-widgets/controls",
      "_view_module_version": "1.5.0",
      "_view_name": "HBoxView",
      "box_style": "",
      "children": [
       "IPY_MODEL_003e9932e16e495292fe367b54f057f8",
       "IPY_MODEL_db24e488683f490dbf1d3dc427f23fc8",
       "IPY_MODEL_119edc8b66454af8b423acd9daf2a6ff"
      ],
      "layout": "IPY_MODEL_f1a771ddc6d14a9eb567748dd9bf9f7b"
     }
    },
    "4af37c76999c4861b736387b1df7256e": {
     "model_module": "@jupyter-widgets/base",
     "model_module_version": "1.2.0",
     "model_name": "LayoutModel",
     "state": {
      "_model_module": "@jupyter-widgets/base",
      "_model_module_version": "1.2.0",
      "_model_name": "LayoutModel",
      "_view_count": null,
      "_view_module": "@jupyter-widgets/base",
      "_view_module_version": "1.2.0",
      "_view_name": "LayoutView",
      "align_content": null,
      "align_items": null,
      "align_self": null,
      "border": null,
      "bottom": null,
      "display": null,
      "flex": null,
      "flex_flow": null,
      "grid_area": null,
      "grid_auto_columns": null,
      "grid_auto_flow": null,
      "grid_auto_rows": null,
      "grid_column": null,
      "grid_gap": null,
      "grid_row": null,
      "grid_template_areas": null,
      "grid_template_columns": null,
      "grid_template_rows": null,
      "height": null,
      "justify_content": null,
      "justify_items": null,
      "left": null,
      "margin": null,
      "max_height": null,
      "max_width": null,
      "min_height": null,
      "min_width": null,
      "object_fit": null,
      "object_position": null,
      "order": null,
      "overflow": null,
      "overflow_x": null,
      "overflow_y": null,
      "padding": null,
      "right": null,
      "top": null,
      "visibility": null,
      "width": null
     }
    },
    "68092439ce304c20b72e0343c103a20a": {
     "model_module": "@jupyter-widgets/controls",
     "model_module_version": "1.5.0",
     "model_name": "DescriptionStyleModel",
     "state": {
      "_model_module": "@jupyter-widgets/controls",
      "_model_module_version": "1.5.0",
      "_model_name": "DescriptionStyleModel",
      "_view_count": null,
      "_view_module": "@jupyter-widgets/base",
      "_view_module_version": "1.2.0",
      "_view_name": "StyleView",
      "description_width": ""
     }
    },
    "731ca8a0eada4ea9b72f0a54b5777b0b": {
     "model_module": "@jupyter-widgets/base",
     "model_module_version": "1.2.0",
     "model_name": "LayoutModel",
     "state": {
      "_model_module": "@jupyter-widgets/base",
      "_model_module_version": "1.2.0",
      "_model_name": "LayoutModel",
      "_view_count": null,
      "_view_module": "@jupyter-widgets/base",
      "_view_module_version": "1.2.0",
      "_view_name": "LayoutView",
      "align_content": null,
      "align_items": null,
      "align_self": null,
      "border": null,
      "bottom": null,
      "display": null,
      "flex": null,
      "flex_flow": null,
      "grid_area": null,
      "grid_auto_columns": null,
      "grid_auto_flow": null,
      "grid_auto_rows": null,
      "grid_column": null,
      "grid_gap": null,
      "grid_row": null,
      "grid_template_areas": null,
      "grid_template_columns": null,
      "grid_template_rows": null,
      "height": null,
      "justify_content": null,
      "justify_items": null,
      "left": null,
      "margin": null,
      "max_height": null,
      "max_width": null,
      "min_height": null,
      "min_width": null,
      "object_fit": null,
      "object_position": null,
      "order": null,
      "overflow": null,
      "overflow_x": null,
      "overflow_y": null,
      "padding": null,
      "right": null,
      "top": null,
      "visibility": null,
      "width": null
     }
    },
    "84d3ccd79912443b9bb329fc290a79d7": {
     "model_module": "@jupyter-widgets/base",
     "model_module_version": "1.2.0",
     "model_name": "LayoutModel",
     "state": {
      "_model_module": "@jupyter-widgets/base",
      "_model_module_version": "1.2.0",
      "_model_name": "LayoutModel",
      "_view_count": null,
      "_view_module": "@jupyter-widgets/base",
      "_view_module_version": "1.2.0",
      "_view_name": "LayoutView",
      "align_content": null,
      "align_items": null,
      "align_self": null,
      "border": null,
      "bottom": null,
      "display": null,
      "flex": null,
      "flex_flow": null,
      "grid_area": null,
      "grid_auto_columns": null,
      "grid_auto_flow": null,
      "grid_auto_rows": null,
      "grid_column": null,
      "grid_gap": null,
      "grid_row": null,
      "grid_template_areas": null,
      "grid_template_columns": null,
      "grid_template_rows": null,
      "height": null,
      "justify_content": null,
      "justify_items": null,
      "left": null,
      "margin": null,
      "max_height": null,
      "max_width": null,
      "min_height": null,
      "min_width": null,
      "object_fit": null,
      "object_position": null,
      "order": null,
      "overflow": null,
      "overflow_x": null,
      "overflow_y": null,
      "padding": null,
      "right": null,
      "top": null,
      "visibility": null,
      "width": null
     }
    },
    "9e80e99d5d1141f2803c1d3b19c0f7c9": {
     "model_module": "@jupyter-widgets/controls",
     "model_module_version": "1.5.0",
     "model_name": "HTMLModel",
     "state": {
      "_dom_classes": [],
      "_model_module": "@jupyter-widgets/controls",
      "_model_module_version": "1.5.0",
      "_model_name": "HTMLModel",
      "_view_count": null,
      "_view_module": "@jupyter-widgets/controls",
      "_view_module_version": "1.5.0",
      "_view_name": "HTMLView",
      "description": "",
      "description_tooltip": null,
      "layout": "IPY_MODEL_84d3ccd79912443b9bb329fc290a79d7",
      "placeholder": "​",
      "style": "IPY_MODEL_cf70906aaef342b384b339c908c9c8eb",
      "value": " 999/999 [05:16&lt;00:00,  2.42it/s]"
     }
    },
    "a45d3ac3ca3d41fa8fd0608728b099b4": {
     "model_module": "@jupyter-widgets/base",
     "model_module_version": "1.2.0",
     "model_name": "LayoutModel",
     "state": {
      "_model_module": "@jupyter-widgets/base",
      "_model_module_version": "1.2.0",
      "_model_name": "LayoutModel",
      "_view_count": null,
      "_view_module": "@jupyter-widgets/base",
      "_view_module_version": "1.2.0",
      "_view_name": "LayoutView",
      "align_content": null,
      "align_items": null,
      "align_self": null,
      "border": null,
      "bottom": null,
      "display": null,
      "flex": null,
      "flex_flow": null,
      "grid_area": null,
      "grid_auto_columns": null,
      "grid_auto_flow": null,
      "grid_auto_rows": null,
      "grid_column": null,
      "grid_gap": null,
      "grid_row": null,
      "grid_template_areas": null,
      "grid_template_columns": null,
      "grid_template_rows": null,
      "height": null,
      "justify_content": null,
      "justify_items": null,
      "left": null,
      "margin": null,
      "max_height": null,
      "max_width": null,
      "min_height": null,
      "min_width": null,
      "object_fit": null,
      "object_position": null,
      "order": null,
      "overflow": null,
      "overflow_x": null,
      "overflow_y": null,
      "padding": null,
      "right": null,
      "top": null,
      "visibility": null,
      "width": null
     }
    },
    "a56fca1269a6482c956dd99170236a30": {
     "model_module": "@jupyter-widgets/controls",
     "model_module_version": "1.5.0",
     "model_name": "HTMLModel",
     "state": {
      "_dom_classes": [],
      "_model_module": "@jupyter-widgets/controls",
      "_model_module_version": "1.5.0",
      "_model_name": "HTMLModel",
      "_view_count": null,
      "_view_module": "@jupyter-widgets/controls",
      "_view_module_version": "1.5.0",
      "_view_name": "HTMLView",
      "description": "",
      "description_tooltip": null,
      "layout": "IPY_MODEL_a45d3ac3ca3d41fa8fd0608728b099b4",
      "placeholder": "​",
      "style": "IPY_MODEL_68092439ce304c20b72e0343c103a20a",
      "value": "100%"
     }
    },
    "bcab2f79b6b14f45996c68f9ad5ed753": {
     "model_module": "@jupyter-widgets/controls",
     "model_module_version": "1.5.0",
     "model_name": "DescriptionStyleModel",
     "state": {
      "_model_module": "@jupyter-widgets/controls",
      "_model_module_version": "1.5.0",
      "_model_name": "DescriptionStyleModel",
      "_view_count": null,
      "_view_module": "@jupyter-widgets/base",
      "_view_module_version": "1.2.0",
      "_view_name": "StyleView",
      "description_width": ""
     }
    },
    "c83ede92afa64a4da9dfd3233c6acc32": {
     "model_module": "@jupyter-widgets/base",
     "model_module_version": "1.2.0",
     "model_name": "LayoutModel",
     "state": {
      "_model_module": "@jupyter-widgets/base",
      "_model_module_version": "1.2.0",
      "_model_name": "LayoutModel",
      "_view_count": null,
      "_view_module": "@jupyter-widgets/base",
      "_view_module_version": "1.2.0",
      "_view_name": "LayoutView",
      "align_content": null,
      "align_items": null,
      "align_self": null,
      "border": null,
      "bottom": null,
      "display": null,
      "flex": null,
      "flex_flow": null,
      "grid_area": null,
      "grid_auto_columns": null,
      "grid_auto_flow": null,
      "grid_auto_rows": null,
      "grid_column": null,
      "grid_gap": null,
      "grid_row": null,
      "grid_template_areas": null,
      "grid_template_columns": null,
      "grid_template_rows": null,
      "height": null,
      "justify_content": null,
      "justify_items": null,
      "left": null,
      "margin": null,
      "max_height": null,
      "max_width": null,
      "min_height": null,
      "min_width": null,
      "object_fit": null,
      "object_position": null,
      "order": null,
      "overflow": null,
      "overflow_x": null,
      "overflow_y": null,
      "padding": null,
      "right": null,
      "top": null,
      "visibility": null,
      "width": null
     }
    },
    "cb9d1863cc5444c7a2aeaf88fe4a6605": {
     "model_module": "@jupyter-widgets/controls",
     "model_module_version": "1.5.0",
     "model_name": "ProgressStyleModel",
     "state": {
      "_model_module": "@jupyter-widgets/controls",
      "_model_module_version": "1.5.0",
      "_model_name": "ProgressStyleModel",
      "_view_count": null,
      "_view_module": "@jupyter-widgets/base",
      "_view_module_version": "1.2.0",
      "_view_name": "StyleView",
      "bar_color": null,
      "description_width": ""
     }
    },
    "cf70906aaef342b384b339c908c9c8eb": {
     "model_module": "@jupyter-widgets/controls",
     "model_module_version": "1.5.0",
     "model_name": "DescriptionStyleModel",
     "state": {
      "_model_module": "@jupyter-widgets/controls",
      "_model_module_version": "1.5.0",
      "_model_name": "DescriptionStyleModel",
      "_view_count": null,
      "_view_module": "@jupyter-widgets/base",
      "_view_module_version": "1.2.0",
      "_view_name": "StyleView",
      "description_width": ""
     }
    },
    "d88085c53a0a4aa78dd5c5d64105ebdc": {
     "model_module": "@jupyter-widgets/base",
     "model_module_version": "1.2.0",
     "model_name": "LayoutModel",
     "state": {
      "_model_module": "@jupyter-widgets/base",
      "_model_module_version": "1.2.0",
      "_model_name": "LayoutModel",
      "_view_count": null,
      "_view_module": "@jupyter-widgets/base",
      "_view_module_version": "1.2.0",
      "_view_name": "LayoutView",
      "align_content": null,
      "align_items": null,
      "align_self": null,
      "border": null,
      "bottom": null,
      "display": null,
      "flex": null,
      "flex_flow": null,
      "grid_area": null,
      "grid_auto_columns": null,
      "grid_auto_flow": null,
      "grid_auto_rows": null,
      "grid_column": null,
      "grid_gap": null,
      "grid_row": null,
      "grid_template_areas": null,
      "grid_template_columns": null,
      "grid_template_rows": null,
      "height": null,
      "justify_content": null,
      "justify_items": null,
      "left": null,
      "margin": null,
      "max_height": null,
      "max_width": null,
      "min_height": null,
      "min_width": null,
      "object_fit": null,
      "object_position": null,
      "order": null,
      "overflow": null,
      "overflow_x": null,
      "overflow_y": null,
      "padding": null,
      "right": null,
      "top": null,
      "visibility": null,
      "width": null
     }
    },
    "db24e488683f490dbf1d3dc427f23fc8": {
     "model_module": "@jupyter-widgets/controls",
     "model_module_version": "1.5.0",
     "model_name": "FloatProgressModel",
     "state": {
      "_dom_classes": [],
      "_model_module": "@jupyter-widgets/controls",
      "_model_module_version": "1.5.0",
      "_model_name": "FloatProgressModel",
      "_view_count": null,
      "_view_module": "@jupyter-widgets/controls",
      "_view_module_version": "1.5.0",
      "_view_name": "ProgressView",
      "bar_style": "success",
      "description": "",
      "description_tooltip": null,
      "layout": "IPY_MODEL_731ca8a0eada4ea9b72f0a54b5777b0b",
      "max": 300,
      "min": 0,
      "orientation": "horizontal",
      "style": "IPY_MODEL_0e8dcbd1cc9c49ff8b97bf68bfc2d2e5",
      "value": 300
     }
    },
    "f1a771ddc6d14a9eb567748dd9bf9f7b": {
     "model_module": "@jupyter-widgets/base",
     "model_module_version": "1.2.0",
     "model_name": "LayoutModel",
     "state": {
      "_model_module": "@jupyter-widgets/base",
      "_model_module_version": "1.2.0",
      "_model_name": "LayoutModel",
      "_view_count": null,
      "_view_module": "@jupyter-widgets/base",
      "_view_module_version": "1.2.0",
      "_view_name": "LayoutView",
      "align_content": null,
      "align_items": null,
      "align_self": null,
      "border": null,
      "bottom": null,
      "display": null,
      "flex": null,
      "flex_flow": null,
      "grid_area": null,
      "grid_auto_columns": null,
      "grid_auto_flow": null,
      "grid_auto_rows": null,
      "grid_column": null,
      "grid_gap": null,
      "grid_row": null,
      "grid_template_areas": null,
      "grid_template_columns": null,
      "grid_template_rows": null,
      "height": null,
      "justify_content": null,
      "justify_items": null,
      "left": null,
      "margin": null,
      "max_height": null,
      "max_width": null,
      "min_height": null,
      "min_width": null,
      "object_fit": null,
      "object_position": null,
      "order": null,
      "overflow": null,
      "overflow_x": null,
      "overflow_y": null,
      "padding": null,
      "right": null,
      "top": null,
      "visibility": null,
      "width": null
     }
    }
   }
  }
 },
 "nbformat": 4,
 "nbformat_minor": 5
}
